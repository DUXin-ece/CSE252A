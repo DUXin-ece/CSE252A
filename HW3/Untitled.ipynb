{
 "cells": [
  {
   "cell_type": "code",
   "execution_count": 1,
   "id": "a24a24aa",
   "metadata": {},
   "outputs": [],
   "source": [
    "import numpy as np\n",
    "from scipy.signal import convolve"
   ]
  },
  {
   "cell_type": "code",
   "execution_count": 4,
   "id": "0cc42ad8",
   "metadata": {},
   "outputs": [
    {
     "name": "stdout",
     "output_type": "stream",
     "text": [
      "[0.   1.25 2.5  3.75 5.  ]\n"
     ]
    }
   ],
   "source": [
    "x1 = np.linspace(0, 5, 5)\n",
    "print(x1)"
   ]
  },
  {
   "cell_type": "code",
   "execution_count": 5,
   "id": "282bf535",
   "metadata": {},
   "outputs": [
    {
     "data": {
      "text/plain": [
       "array([[  0.,   0., 255., ..., 255., 255., 255.],\n",
       "       [  0.,   0.,   0., ..., 255., 255., 255.],\n",
       "       [  0.,   0.,   0., ..., 255., 255., 255.],\n",
       "       ...,\n",
       "       [255., 255., 255., ..., 255., 255., 255.],\n",
       "       [255., 255., 255., ..., 255., 255., 255.],\n",
       "       [255., 255., 255., ..., 255., 255., 255.]])"
      ]
     },
     "execution_count": 5,
     "metadata": {},
     "output_type": "execute_result"
    }
   ],
   "source": [
    "import cv2  # python-opencv\n",
    "import numpy as np\n",
    "\n",
    "width, height = 800, 600\n",
    "x1, y1 = 0, 0\n",
    "x2, y2 = 200, 400\n",
    "image = np.ones((height, width)) * 255\n",
    "\n",
    "line_thickness = 2\n",
    "cv2.line(image, (x1, y1), (x2, y2), (0, 255, 0), thickness=line_thickness)"
   ]
  },
  {
   "cell_type": "code",
   "execution_count": 6,
   "id": "3becdbce",
   "metadata": {},
   "outputs": [
    {
     "data": {
      "image/png": "[encoded data removed]",
      "text/plain": [
       "<Figure size 432x288 with 1 Axes>"
      ]
     },
     "metadata": {
      "needs_background": "light"
     },
     "output_type": "display_data"
    }
   ],
   "source": [
    "import matplotlib.pyplot as plt\n",
    "plt.imshow(image)\n",
    "plt.show()"
   ]
  },
  {
   "cell_type": "code",
   "execution_count": 6,
   "id": "f80cbf5a",
   "metadata": {},
   "outputs": [
    {
     "name": "stdout",
     "output_type": "stream",
     "text": [
      "[3 0 4 5 1 2 1 4]\n",
      "[1 4 5 1 2 5 3 2]\n",
      "[5 2 2 3 2 4 5 1]\n",
      "[3 0 5 4 5 3 1 3]\n",
      "[4 4 5 0 2 1 5 4]\n",
      "[4 1 5 4 0 0 2 5]\n",
      "[5 5 3 1 0 0 0 0]\n",
      "[2 4 5 0 5 2 3 5]\n",
      "[4 3 4 5 4 4 2 1]\n",
      "[3 4 4 0 5 0 2 4]\n",
      "[3 5 3 0 0 1 4 4]\n",
      "[5 0 0 0 1 5 1 1]\n",
      "[4 1 4 0 4 3 5 2]\n",
      "[0 3 2 3 2 2 1 3]\n",
      "[5 3 0 5 4 5 5 5]\n",
      "[3 3 0 0 1 5 4 4]\n",
      "[1 5 5 5 0 0 0 3]\n",
      "[4 4 2 2 3 3 4 5]\n",
      "[2 5 1 0 4 1 3 0]\n",
      "[3 2 5 1 5 0 0 3]\n",
      "[5 4 1 0 0 5 2 1]\n",
      "[1 0 5 1 1 0 0 3]\n",
      "[5 3 5 3 3 1 2 0]\n",
      "[0 4 2 5 2 0 2 5]\n",
      "[4 1 5 3 4 5 5 3]\n",
      "[0 1 4 2 1 4 1 0]\n",
      "[2 3 3 5 3 5 4 1]\n",
      "[2 2 5 4 2 2 1 1]\n",
      "[5 1 4 5 4 4 2 3]\n",
      "[2 1 3 0 3 1 1 1]\n",
      "[5 1 0 5 3 0 2 3]\n",
      "[2 2 5 2 5 1 3 4]\n",
      "[3 1 3 5 1 3 3 5]\n",
      "[2 0 3 4 0 4 5 3]\n",
      "[1 5 3 2 1 4 3 5]\n",
      "[5 3 1 3 0 4 3 3]\n",
      "[1 2 5 4 0 5 0 1]\n",
      "[0 2 3 4 5 3 1 3]\n",
      "[2 0 5 4 2 5 1 4]\n",
      "[3 1 3 2 5 2 1 0]\n",
      "[1 0 1 1 4 0 0 5]\n",
      "[2 3 2 0 4 0 5 3]\n",
      "[3 1 4 5 2 4 1 0]\n",
      "[5 3 0 0 1 2 0 3]\n",
      "[3 2 2 1 4 3 0 1]\n",
      "[2 0 4 5 2 4 4 3]\n",
      "[5 3 4 5 3 5 5 2]\n",
      "[4 4 1 1 1 1 0 1]\n",
      "[2 0 2 1 4 0 4 2]\n",
      "[2 0 5 2 5 0 2 4]\n",
      "[3 1 1 3 3 0 2 4]\n",
      "[1 3 5 5 3 3 2 5]\n",
      "[4 3 4 1 0 0 1 0]\n",
      "[3 5 2 0 1 2 1 3]\n",
      "[1 5 3 0 2 4 5 2]\n",
      "[4 0 1 5 5 3 3 3]\n",
      "[0 0 5 4 2 2 1 4]\n",
      "[0 0 3 4 4 0 4 3]\n",
      "[3 5 0 0 4 5 4 5]\n",
      "[5 5 2 4 4 1 5 0]\n",
      "[4 1 4 0 2 5 5 3]\n",
      "[0 0 1 1 1 2 1 0]\n",
      "[1 4 4 3 4 3 4 2]\n",
      "[3 4 3 5 3 4 0 1]\n",
      "[3 5 3 3 1 5 3 3]\n",
      "[4 0 5 2 2 5 1 5]\n",
      "[5 2 0 2 0 0 4 2]\n",
      "[3 5 1 3 2 2 3 4]\n",
      "[2 4 5 5 1 2 3 4]\n",
      "[1 0 1 4 2 2 0 4]\n",
      "[2 2 4 1 5 3 1 4]\n",
      "[5 1 2 5 5 4 2 2]\n",
      "[2 5 1 3 0 3 0 4]\n",
      "[3 5 0 2 4 3 1 4]\n",
      "[2 2 5 2 0 3 4 3]\n",
      "[5 3 0 0 2 3 5 0]\n",
      "[5 2 4 0 0 4 4 0]\n",
      "[4 4 2 0 4 2 0 0]\n",
      "[0 4 4 3 2 3 5 2]\n",
      "[1 3 5 0 5 1 1 1]\n",
      "[2 4 4 1 4 5 0 4]\n",
      "[2 1 3 0 3 1 5 1]\n",
      "[3 1 1 1 4 5 4 2]\n",
      "[3 0 3 3 2 5 4 0]\n",
      "[0 2 1 3 3 0 3 0]\n",
      "[4 4 0 2 3 5 5 0]\n",
      "[2 5 5 4 3 3 4 1]\n",
      "[0 2 2 5 5 1 2 2]\n",
      "[3 0 3 4 5 3 1 0]\n",
      "[1 0 0 0 2 5 3 2]\n",
      "[5 2 3 1 5 0 1 1]\n",
      "[5 4 5 2 0 3 1 4]\n",
      "[4 1 5 5 5 1 5 4]\n",
      "[2 5 4 4 4 2 2 5]\n",
      "[2 3 3 3 3 0 0 5]\n",
      "[0 1 0 5 1 4 0 2]\n",
      "[5 3 1 5 4 0 3 2]\n",
      "[4 5 2 0 1 4 0 0]\n",
      "[1 1 0 1 4 1 4 0]\n",
      "[3 0 5 0 0 4 3 1]\n"
     ]
    }
   ],
   "source": [
    "for i in range(100):\n",
    "    x=np.random.randint(6, size=(8))\n",
    "    print(x)"
   ]
  },
  {
   "cell_type": "code",
   "execution_count": 1,
   "id": "214f8f62",
   "metadata": {},
   "outputs": [
    {
     "data": {
      "text/plain": [
       "1.6666666666666667"
      ]
     },
     "execution_count": 1,
     "metadata": {},
     "output_type": "execute_result"
    }
   ],
   "source": [
    "a = [1,2,3,4,5]\n",
    "b = len(a)\n",
    "c = [1,2,3]\n",
    "d = len(c)\n",
    "b/d"
   ]
  },
  {
   "cell_type": "code",
   "execution_count": 2,
   "id": "93090d14",
   "metadata": {},
   "outputs": [],
   "source": [
    "import numpy as np\n"
   ]
  },
  {
   "cell_type": "code",
   "execution_count": 5,
   "id": "2f0181bb",
   "metadata": {},
   "outputs": [
    {
     "name": "stdout",
     "output_type": "stream",
     "text": [
      "[3 4 4 1 4 2 0 4]\n"
     ]
    }
   ],
   "source": [
    "a = np.random.choice(5, size = 8)\n",
    "print(a)"
   ]
  },
  {
   "cell_type": "code",
   "execution_count": null,
   "id": "c2d5195e",
   "metadata": {},
   "outputs": [],
   "source": []
  }
 ],
 "metadata": {
  "kernelspec": {
   "display_name": "Python 3",
   "language": "python",
   "name": "python3"
  },
  "language_info": {
   "codemirror_mode": {
    "name": "ipython",
    "version": 3
   },
   "file_extension": ".py",
   "mimetype": "text/x-python",
   "name": "python",
   "nbconvert_exporter": "python",
   "pygments_lexer": "ipython3",
   "version": "3.7.10"
  }
 },
 "nbformat": 4,
 "nbformat_minor": 5
}
