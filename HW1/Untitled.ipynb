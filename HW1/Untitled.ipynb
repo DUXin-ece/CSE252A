{
 "cells": [
  {
   "cell_type": "code",
   "execution_count": 1,
   "id": "81747bf7",
   "metadata": {},
   "outputs": [],
   "source": [
    "import pickle\n",
    "import numpy as np\n",
    "from time import time\n",
    "from skimage import io\n",
    "%matplotlib inline\n",
    "import matplotlib.pyplot as plt"
   ]
  },
  {
   "cell_type": "code",
   "execution_count": 3,
   "id": "c8bb0e6b",
   "metadata": {},
   "outputs": [],
   "source": [
    "with open(\"synthetic_data.pickle\", \"rb\") as f:\n",
    "    data = pickle.load(f, encoding=\"latin1\")\n",
    "    "
   ]
  },
  {
   "cell_type": "code",
   "execution_count": 10,
   "id": "71613ab5",
   "metadata": {},
   "outputs": [
    {
     "name": "stdout",
     "output_type": "stream",
     "text": [
      "(100, 100)\n",
      "<class 'numpy.ndarray'>\n"
     ]
    }
   ],
   "source": [
    "print(data['im1'].shape)\n",
    "print(type(data['im1']))"
   ]
  },
  {
   "cell_type": "code",
   "execution_count": 11,
   "id": "40158f37",
   "metadata": {},
   "outputs": [
    {
     "data": {
      "text/plain": [
       "array([[0, 0, 1]], dtype=int16)"
      ]
     },
     "execution_count": 11,
     "metadata": {},
     "output_type": "execute_result"
    }
   ],
   "source": [
    "data['l1']"
   ]
  },
  {
   "cell_type": "code",
   "execution_count": 12,
   "id": "188132d1",
   "metadata": {},
   "outputs": [
    {
     "data": {
      "text/plain": [
       "(1, 3)"
      ]
     },
     "execution_count": 12,
     "metadata": {},
     "output_type": "execute_result"
    }
   ],
   "source": [
    "data['l1'].shape"
   ]
  },
  {
   "cell_type": "code",
   "execution_count": 14,
   "id": "07b8b4d4",
   "metadata": {},
   "outputs": [],
   "source": [
    "light = np.hstack([data['l1'].T,data['l2'].T,data['l4'].T])"
   ]
  },
  {
   "cell_type": "code",
   "execution_count": 15,
   "id": "02eebb11",
   "metadata": {},
   "outputs": [
    {
     "data": {
      "text/plain": [
       "array([[0. , 0.2, 0. ],\n",
       "       [0. , 0. , 0.2],\n",
       "       [1. , 1. , 1. ]])"
      ]
     },
     "execution_count": 15,
     "metadata": {},
     "output_type": "execute_result"
    }
   ],
   "source": [
    "light"
   ]
  },
  {
   "cell_type": "code",
   "execution_count": 16,
   "id": "66d6bbed",
   "metadata": {},
   "outputs": [
    {
     "data": {
      "text/plain": [
       "array([[-5., -5.,  1.],\n",
       "       [ 5.,  0.,  0.],\n",
       "       [ 0.,  5.,  0.]])"
      ]
     },
     "execution_count": 16,
     "metadata": {},
     "output_type": "execute_result"
    }
   ],
   "source": [
    "light_r = np.linalg.inv(light)\n",
    "light_r"
   ]
  },
  {
   "cell_type": "code",
   "execution_count": 17,
   "id": "2fb23d57",
   "metadata": {},
   "outputs": [
    {
     "data": {
      "text/plain": [
       "array([[1., 0., 0.],\n",
       "       [0., 1., 0.],\n",
       "       [0., 0., 1.]])"
      ]
     },
     "execution_count": 17,
     "metadata": {},
     "output_type": "execute_result"
    }
   ],
   "source": [
    "np.dot(light_r, light)"
   ]
  },
  {
   "cell_type": "code",
   "execution_count": 18,
   "id": "2c49c24a",
   "metadata": {},
   "outputs": [],
   "source": [
    "images = []\n",
    "images.append(data[\"im1\"])\n",
    "images.append(data[\"im2\"])\n",
    "# images.append(data[\"im3\"])\n",
    "images.append(data[\"im4\"])\n",
    "images = np.array(images)"
   ]
  },
  {
   "cell_type": "code",
   "execution_count": 24,
   "id": "e6207c1c",
   "metadata": {},
   "outputs": [
    {
     "data": {
      "text/plain": [
       "(3, 1)"
      ]
     },
     "execution_count": 24,
     "metadata": {},
     "output_type": "execute_result"
    }
   ],
   "source": [
    "images[:,0,0,None].shape"
   ]
  },
  {
   "cell_type": "code",
   "execution_count": 25,
   "id": "66538635",
   "metadata": {},
   "outputs": [
    {
     "name": "stdout",
     "output_type": "stream",
     "text": [
      "5.0\n"
     ]
    }
   ],
   "source": [
    "a = np.array([3,4])\n",
    "b = np.linalg.norm(a)\n",
    "print(b)"
   ]
  },
  {
   "cell_type": "code",
   "execution_count": 26,
   "id": "3e7e887a",
   "metadata": {},
   "outputs": [],
   "source": [
    "a = np.zeros((100,100,3))"
   ]
  },
  {
   "cell_type": "code",
   "execution_count": 28,
   "id": "ffc986bd",
   "metadata": {},
   "outputs": [],
   "source": [
    "a[1,1,:] = data['l1']"
   ]
  },
  {
   "cell_type": "code",
   "execution_count": 2,
   "id": "ebb48eae",
   "metadata": {},
   "outputs": [],
   "source": [
    "with open(\"specular_sphere.pickle\", \"rb\") as f:\n",
    "    data = pickle.load(f, encoding=\"latin1\")"
   ]
  },
  {
   "cell_type": "code",
   "execution_count": 7,
   "id": "83ea87b9",
   "metadata": {},
   "outputs": [
    {
     "data": {
      "text/plain": [
       "dict_keys(['l4', 'c', '__header__', '__globals__', 'im1', 'im3', 'im2', 'l2', 'im4', 'l1', '__version__', 'l3'])"
      ]
     },
     "execution_count": 7,
     "metadata": {},
     "output_type": "execute_result"
    }
   ],
   "source": [
    "data.keys()"
   ]
  },
  {
   "cell_type": "code",
   "execution_count": 9,
   "id": "8d50e098",
   "metadata": {},
   "outputs": [
    {
     "data": {
      "text/plain": [
       "array([[0.6257],\n",
       "       [0.5678],\n",
       "       [0.5349]])"
      ]
     },
     "execution_count": 9,
     "metadata": {},
     "output_type": "execute_result"
    }
   ],
   "source": [
    "data['c']"
   ]
  },
  {
   "cell_type": "code",
   "execution_count": 11,
   "id": "c61eb23a",
   "metadata": {},
   "outputs": [
    {
     "data": {
      "text/plain": [
       "array([[-0.38359 , -0.236647,  0.892668]])"
      ]
     },
     "execution_count": 11,
     "metadata": {},
     "output_type": "execute_result"
    }
   ],
   "source": [
    "data['l1']"
   ]
  },
  {
   "cell_type": "code",
   "execution_count": 15,
   "id": "a9c04eb6",
   "metadata": {},
   "outputs": [
    {
     "data": {
      "text/plain": [
       "array([[[ 6.43009179e-07, -3.38269948e-06,  4.64109081e-07],\n",
       "        [-5.18060312e-06,  1.64998249e-07, -3.84996463e-06],\n",
       "        [ 3.61757805e-05, -2.32866793e-08,  2.65590953e-05],\n",
       "        ...,\n",
       "        [ 2.52208445e-04,  2.31257774e-04,  1.56798320e-04],\n",
       "        [ 2.53787846e-04,  2.48972949e-04,  1.23932257e-04],\n",
       "        [ 2.55490183e-04,  2.58234940e-04,  2.02059751e-04]],\n",
       "\n",
       "       [[ 4.61508955e-07,  1.78899607e-05, -2.46782094e-08],\n",
       "        [-2.85766248e-06,  3.18544674e-05,  5.33183612e-07],\n",
       "        [ 1.92925751e-05,  5.02460667e-05, -3.85391984e-06],\n",
       "        ...,\n",
       "        [ 2.83814891e-04,  2.39853983e-04,  1.77571657e-04],\n",
       "        [ 2.55377654e-04,  1.89956395e-04,  1.31090911e-04],\n",
       "        [ 2.55275481e-04,  2.46644655e-04,  1.29576189e-04]],\n",
       "\n",
       "       [[-3.22271045e-06,  9.63887721e-05, -2.55409510e-06],\n",
       "        [ 2.35599312e-05,  1.32803430e-05,  1.74163028e-05],\n",
       "        [-1.93094584e-05,  2.02887949e-05,  1.93716187e-05],\n",
       "        ...,\n",
       "        [ 2.36369157e-04,  2.03472582e-04,  6.88563084e-05],\n",
       "        [ 2.01433962e-04,  1.77947043e-04,  1.08044996e-04],\n",
       "        [ 2.90463194e-04,  2.79251472e-04,  1.68885660e-04]],\n",
       "\n",
       "       ...,\n",
       "\n",
       "       [[ 2.44513995e-04,  1.76356009e-04,  8.30046320e-05],\n",
       "        [ 2.03097227e-04,  1.45466929e-04,  1.67582527e-05],\n",
       "        [ 1.70375145e-04,  1.54044388e-04,  1.69655716e-04],\n",
       "        ...,\n",
       "        [ 5.68165608e-04,  1.91274213e-04,  2.78813790e-04],\n",
       "        [ 6.19967012e-04,  3.54093213e-04,  3.84970053e-04],\n",
       "        [ 5.13889418e-04,  3.62161025e-04,  3.47594591e-04]],\n",
       "\n",
       "       [[ 2.42540755e-04,  2.22667563e-04,  4.15243868e-05],\n",
       "        [ 2.52899268e-04,  1.64934460e-04,  1.34856923e-04],\n",
       "        [ 2.17924124e-04,  1.87853761e-04,  1.19701406e-04],\n",
       "        ...,\n",
       "        [ 6.74466307e-04,  3.98407866e-04,  4.04379879e-04],\n",
       "        [ 6.33369621e-04,  4.07324353e-04,  3.47935961e-04],\n",
       "        [ 2.76632865e-04,  1.55323225e-04,  9.98535127e-05]],\n",
       "\n",
       "       [[ 2.86766274e-04,  2.08288893e-04,  1.95878402e-04],\n",
       "        [ 2.18620818e-04,  1.66068757e-04,  7.69303378e-05],\n",
       "        [ 2.23561991e-04,  2.54015678e-04,  1.23547133e-04],\n",
       "        ...,\n",
       "        [ 7.23862591e-04,  3.90524676e-04,  4.17748196e-04],\n",
       "        [ 8.06511249e-04,  5.47103776e-04,  4.71182290e-04],\n",
       "        [ 3.37664879e-04,  1.97901670e-04,  9.78772320e-05]]])"
      ]
     },
     "execution_count": 15,
     "metadata": {},
     "output_type": "execute_result"
    }
   ],
   "source": [
    "data['im1']"
   ]
  },
  {
   "cell_type": "code",
   "execution_count": 18,
   "id": "f0a0e256",
   "metadata": {},
   "outputs": [
    {
     "data": {
      "text/plain": [
       "<matplotlib.image.AxesImage at 0x19bd9d76408>"
      ]
     },
     "execution_count": 18,
     "metadata": {},
     "output_type": "execute_result"
    },
    {
     "data": {
      "image/png": "[encoded data removed]",
      "text/plain": [
       "<Figure size 432x288 with 1 Axes>"
      ]
     },
     "metadata": {
      "needs_background": "light"
     },
     "output_type": "display_data"
    }
   ],
   "source": [
    "data['im1'] = (data['im1'] - np.min(data['im1']))/(np.max(data['im1'])-np.min(data['im1']))\n",
    "plt.imshow(data['im1'])"
   ]
  },
  {
   "cell_type": "code",
   "execution_count": 22,
   "id": "0d693b8f",
   "metadata": {},
   "outputs": [
    {
     "data": {
      "text/plain": [
       "5.0"
      ]
     },
     "execution_count": 22,
     "metadata": {},
     "output_type": "execute_result"
    }
   ],
   "source": [
    "np.linalg.norm((3,4))"
   ]
  },
  {
   "cell_type": "code",
   "execution_count": null,
   "id": "e7f6ac7c",
   "metadata": {},
   "outputs": [],
   "source": []
  }
 ],
 "metadata": {
  "kernelspec": {
   "display_name": "Python 3",
   "language": "python",
   "name": "python3"
  },
  "language_info": {
   "codemirror_mode": {
    "name": "ipython",
    "version": 3
   },
   "file_extension": ".py",
   "mimetype": "text/x-python",
   "name": "python",
   "nbconvert_exporter": "python",
   "pygments_lexer": "ipython3",
   "version": "3.7.10"
  }
 },
 "nbformat": 4,
 "nbformat_minor": 5
}
