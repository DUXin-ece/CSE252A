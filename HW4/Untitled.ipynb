{
 "cells": [
  {
   "cell_type": "code",
   "execution_count": 23,
   "id": "5f97da61",
   "metadata": {},
   "outputs": [],
   "source": [
    "import numpy as np"
   ]
  },
  {
   "cell_type": "code",
   "execution_count": 47,
   "id": "464dab03",
   "metadata": {},
   "outputs": [
    {
     "name": "stdout",
     "output_type": "stream",
     "text": [
      "[[0 1 2]\n",
      " [3 4 5]\n",
      " [6 7 8]]\n"
     ]
    }
   ],
   "source": [
    "X = np.arange(9).reshape(3,3)\n",
    "print(X)"
   ]
  },
  {
   "cell_type": "code",
   "execution_count": 48,
   "id": "b08f0360",
   "metadata": {},
   "outputs": [
    {
     "name": "stdout",
     "output_type": "stream",
     "text": [
      "[[45 54 63]\n",
      " [54 66 78]\n",
      " [63 78 93]]\n"
     ]
    }
   ],
   "source": [
    "C = np.dot(X.T, X)\n",
    "print(C)"
   ]
  },
  {
   "cell_type": "code",
   "execution_count": 57,
   "id": "4a2f9471",
   "metadata": {},
   "outputs": [
    {
     "name": "stdout",
     "output_type": "stream",
     "text": [
      "[1.01199602e+02 8.00398408e-01 4.30393933e-15]\n",
      "[[-0.4663281  -0.78477477  0.40824829]\n",
      " [-0.57099079 -0.08545673 -0.81649658]\n",
      " [-0.67565348  0.61386131  0.40824829]]\n"
     ]
    }
   ],
   "source": [
    "# eigendecomposition\n",
    "\n",
    "Covariance_M = 1/(3-1) * C\n",
    "eigen_vals, eigen_vecs = np.linalg.eig(Covariance_M)\n",
    "\n",
    "print(eigen_vals)\n",
    "print(eigen_vecs)"
   ]
  },
  {
   "cell_type": "code",
   "execution_count": 50,
   "id": "1498ab47",
   "metadata": {},
   "outputs": [
    {
     "name": "stdout",
     "output_type": "stream",
     "text": [
      "[1.42267074e+01 1.26522599e+00 4.97902781e-16]\n",
      "[[-0.4663281  -0.57099079 -0.67565348]\n",
      " [-0.78477477 -0.08545673  0.61386131]\n",
      " [-0.40824829  0.81649658 -0.40824829]]\n",
      "[[-0.13511895  0.90281571  0.40824829]\n",
      " [-0.49633514  0.29493179 -0.81649658]\n",
      " [-0.85755134 -0.31295213  0.40824829]]\n"
     ]
    }
   ],
   "source": [
    "# svd\n",
    "\n",
    "U, Sigma, VT = np.linalg.svd(X)\n",
    "\n",
    "print(Sigma)\n",
    "print(VT)\n",
    "print(U)"
   ]
  },
  {
   "cell_type": "code",
   "execution_count": 54,
   "id": "59ca95fe",
   "metadata": {},
   "outputs": [
    {
     "name": "stdout",
     "output_type": "stream",
     "text": [
      "[[1.42267074e+01 0.00000000e+00 0.00000000e+00]\n",
      " [0.00000000e+00 1.26522599e+00 0.00000000e+00]\n",
      " [0.00000000e+00 0.00000000e+00 4.97902781e-16]]\n",
      "[[2.02013888e-16 1.00000000e+00 2.00000000e+00]\n",
      " [3.00000000e+00 4.00000000e+00 5.00000000e+00]\n",
      " [6.00000000e+00 7.00000000e+00 8.00000000e+00]]\n"
     ]
    }
   ],
   "source": [
    "s = np.diag(Sigma)\n",
    "print(s)\n",
    "test = np.dot(U, np.dot(s, VT))\n",
    "print(test)"
   ]
  },
  {
   "cell_type": "code",
   "execution_count": 63,
   "id": "65bfc9fc",
   "metadata": {},
   "outputs": [
    {
     "name": "stdout",
     "output_type": "stream",
     "text": [
      "[1.01199602e+02 8.00398408e-01 1.23953589e-31]\n",
      "[1.01199602e+02 8.00398408e-01 4.30393933e-15]\n"
     ]
    }
   ],
   "source": [
    "print(np.square(Sigma)/2)\n",
    "print(eigen_vals)"
   ]
  },
  {
   "cell_type": "code",
   "execution_count": 64,
   "id": "99cc7d53",
   "metadata": {},
   "outputs": [],
   "source": [
    "a = np.arange(24).reshape(3,8)"
   ]
  },
  {
   "cell_type": "code",
   "execution_count": 65,
   "id": "b163cf56",
   "metadata": {},
   "outputs": [
    {
     "name": "stdout",
     "output_type": "stream",
     "text": [
      "[[ 0  1  2  3  4  5  6  7]\n",
      " [ 8  9 10 11 12 13 14 15]\n",
      " [16 17 18 19 20 21 22 23]]\n"
     ]
    }
   ],
   "source": [
    "print(a)"
   ]
  },
  {
   "cell_type": "code",
   "execution_count": 66,
   "id": "ba45fcb8",
   "metadata": {},
   "outputs": [],
   "source": [
    "b = np.array([3,4,5,6,7,8,9,0])"
   ]
  },
  {
   "cell_type": "code",
   "execution_count": 67,
   "id": "72a06208",
   "metadata": {},
   "outputs": [
    {
     "name": "stdout",
     "output_type": "stream",
     "text": [
      "[3 4 5 6 7 8 9 0]\n"
     ]
    }
   ],
   "source": [
    "print(b)"
   ]
  },
  {
   "cell_type": "code",
   "execution_count": 68,
   "id": "adfc6cc1",
   "metadata": {},
   "outputs": [
    {
     "name": "stdout",
     "output_type": "stream",
     "text": [
      "(8,)\n"
     ]
    }
   ],
   "source": [
    "print(b.shape)"
   ]
  },
  {
   "cell_type": "code",
   "execution_count": 69,
   "id": "60fcc962",
   "metadata": {},
   "outputs": [
    {
     "data": {
      "text/plain": [
       "array([[-3, -3, -3, -3, -3, -3, -3,  7],\n",
       "       [ 5,  5,  5,  5,  5,  5,  5, 15],\n",
       "       [13, 13, 13, 13, 13, 13, 13, 23]])"
      ]
     },
     "execution_count": 69,
     "metadata": {},
     "output_type": "execute_result"
    }
   ],
   "source": [
    "a-b"
   ]
  },
  {
   "cell_type": "code",
   "execution_count": 1,
   "id": "08dca11d",
   "metadata": {},
   "outputs": [],
   "source": [
    "import torch"
   ]
  },
  {
   "cell_type": "code",
   "execution_count": 5,
   "id": "c7b96df8",
   "metadata": {},
   "outputs": [],
   "source": [
    "a = torch.Tensor(5)"
   ]
  },
  {
   "cell_type": "code",
   "execution_count": 6,
   "id": "e40506a2",
   "metadata": {},
   "outputs": [
    {
     "name": "stdout",
     "output_type": "stream",
     "text": [
      "tensor([8.9082e-39, 9.9184e-39, 8.7245e-39, 1.0194e-38, 9.6429e-39])\n"
     ]
    }
   ],
   "source": [
    "print(a)"
   ]
  },
  {
   "cell_type": "code",
   "execution_count": 7,
   "id": "341a5a84",
   "metadata": {},
   "outputs": [],
   "source": [
    "a = torch.Tensor([5])"
   ]
  },
  {
   "cell_type": "code",
   "execution_count": 8,
   "id": "a853c9b3",
   "metadata": {},
   "outputs": [
    {
     "data": {
      "text/plain": [
       "tensor([5.])"
      ]
     },
     "execution_count": 8,
     "metadata": {},
     "output_type": "execute_result"
    }
   ],
   "source": [
    "a"
   ]
  },
  {
   "cell_type": "code",
   "execution_count": 9,
   "id": "2909a4f1",
   "metadata": {},
   "outputs": [
    {
     "data": {
      "text/plain": [
       "array([5.], dtype=float32)"
      ]
     },
     "execution_count": 9,
     "metadata": {},
     "output_type": "execute_result"
    }
   ],
   "source": [
    "a.numpy()"
   ]
  },
  {
   "cell_type": "code",
   "execution_count": 14,
   "id": "56f8c00c",
   "metadata": {},
   "outputs": [],
   "source": [
    "import numpy as np\n",
    "one_hot = (np.arange(10)==a.numpy())"
   ]
  },
  {
   "cell_type": "code",
   "execution_count": 15,
   "id": "0632e98a",
   "metadata": {},
   "outputs": [
    {
     "name": "stdout",
     "output_type": "stream",
     "text": [
      "[False False False False False  True False False False False]\n"
     ]
    }
   ],
   "source": [
    "print(one_hot)"
   ]
  },
  {
   "cell_type": "code",
   "execution_count": 16,
   "id": "4a695da1",
   "metadata": {},
   "outputs": [],
   "source": [
    "y = np.array([3,4,5,6,7])"
   ]
  },
  {
   "cell_type": "code",
   "execution_count": 17,
   "id": "6b20c418",
   "metadata": {},
   "outputs": [
    {
     "data": {
      "text/plain": [
       "array([3, 4, 5, 6, 7])"
      ]
     },
     "execution_count": 17,
     "metadata": {},
     "output_type": "execute_result"
    }
   ],
   "source": [
    "y"
   ]
  },
  {
   "cell_type": "code",
   "execution_count": 18,
   "id": "0b5889d7",
   "metadata": {},
   "outputs": [
    {
     "data": {
      "text/plain": [
       "dtype('int32')"
      ]
     },
     "execution_count": 18,
     "metadata": {},
     "output_type": "execute_result"
    }
   ],
   "source": [
    "y.dtype"
   ]
  },
  {
   "cell_type": "code",
   "execution_count": 19,
   "id": "10ab61cd",
   "metadata": {},
   "outputs": [],
   "source": [
    "a = np.arange(25).reshape(5,5)"
   ]
  },
  {
   "cell_type": "code",
   "execution_count": 20,
   "id": "f216d238",
   "metadata": {},
   "outputs": [
    {
     "data": {
      "text/plain": [
       "array([0, 1, 2, 3, 4])"
      ]
     },
     "execution_count": 20,
     "metadata": {},
     "output_type": "execute_result"
    }
   ],
   "source": [
    "a[0]"
   ]
  },
  {
   "cell_type": "code",
   "execution_count": null,
   "id": "d66dd552",
   "metadata": {},
   "outputs": [],
   "source": [
    "    def train_net(self, X_train, y_train, epochs=1, batchSize=50):\n",
    "        \"\"\" ==========\n",
    "        YOUR CODE HERE\n",
    "        ========== \"\"\"\n",
    "            \n",
    "        X_train =  torch.FloatTensor(X_train)\n",
    "        one_hot_y = np.zeros((y_train.shape[0], 10))\n",
    "        for i in range(y_train.shape[0]):\n",
    "            one_hot_y[i, int(y_train[i])] = 1.0\n",
    "        one_hot_y_train =  torch.FloatTensor(one_hot_y)\n",
    "        \n",
    "        self.loss_fn = torch.nn.MSELoss(reduction='sum')\n",
    "        self.optimizer = torch.optim.SGD(self.parameters(), lr=1e-8, momentum=0.9)\n",
    "        \n",
    "        loop = 0\n",
    "        print(X_train.size())\n",
    "        print(one_hot_y_train.size())\n",
    "        for data,label in DataBatch(X_train,one_hot_y_train,batchSize,shuffle=False):\n",
    "            print(self.weight1)\n",
    "            for i in range(epochs):\n",
    "                pred = self.forward(data[i])\n",
    "                print(pred)\n",
    "                print(label[i,None])\n",
    "                loss = self.loss_fn(pred, label[i,None])\n",
    "                # Backpropagation\n",
    "                self.optimizer.zero_grad()\n",
    "                loss.backward()\n",
    "                self.optimizer.step()\n",
    "            loop+=1\n",
    "            \n",
    "            if(loop ==epochs):\n",
    "                break\n",
    "        "
   ]
  }
 ],
 "metadata": {
  "kernelspec": {
   "display_name": "Python 3",
   "language": "python",
   "name": "python3"
  },
  "language_info": {
   "codemirror_mode": {
    "name": "ipython",
    "version": 3
   },
   "file_extension": ".py",
   "mimetype": "text/x-python",
   "name": "python",
   "nbconvert_exporter": "python",
   "pygments_lexer": "ipython3",
   "version": "3.7.10"
  }
 },
 "nbformat": 4,
 "nbformat_minor": 5
}
